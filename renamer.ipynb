{
 "cells": [
  {
   "cell_type": "code",
   "execution_count": 1,
   "metadata": {},
   "outputs": [],
   "source": [
    "import os"
   ]
  },
  {
   "cell_type": "code",
   "execution_count": 4,
   "metadata": {},
   "outputs": [],
   "source": [
    "path = \"/data/media/audiobooks/James S.A. Corey/Cibola Burn\"\n",
    "chars_to_replace = \"- \"\n",
    "replace_with = \"\"\n",
    "files = os.listdir(path)"
   ]
  },
  {
   "cell_type": "code",
   "execution_count": null,
   "metadata": {},
   "outputs": [],
   "source": [
    "newfilelist = []\n",
    "for filename in files:\n",
    "    print(filename)\n",
    "    # newfilelist.append(filename.replace(chars_to_replace, replace_with))\n",
    "    # os.rename(path + filename, path + filename.replace(chars_to_replace, replace_with))\n",
    "    # if filename != \"renamer.ipynb\":\n",
    "    #     for i in range(9):\n",
    "    #         string = \"_V\" + str(i)\n",
    "    #         if string in filename:\n",
    "    #             print(string)\n",
    "    #             # newfilelist.append(filename.replace(string, \"\"))\n",
    "    #             os.rename(filename, filename.replace(string, \"\"))\n",
    "    #     if \" FINAL\" in filename:\n",
    "    #         os.rename(filename, filename.replace(\" FINAL\", \"\"))\n",
    "    #     if \"-O\" in filename:\n",
    "    #         os.rename(filename, filename.replace(\"-O\", \"\"))"
   ]
  }
 ],
 "metadata": {
  "kernelspec": {
   "display_name": ".venv",
   "language": "python",
   "name": "python3"
  },
  "language_info": {
   "codemirror_mode": {
    "name": "ipython",
    "version": 3
   },
   "file_extension": ".py",
   "mimetype": "text/x-python",
   "name": "python",
   "nbconvert_exporter": "python",
   "pygments_lexer": "ipython3",
   "version": "3.12.3"
  }
 },
 "nbformat": 4,
 "nbformat_minor": 2
}
